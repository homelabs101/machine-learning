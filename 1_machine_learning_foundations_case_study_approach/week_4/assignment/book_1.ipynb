{
 "cells": [
  {
   "cell_type": "code",
   "execution_count": 63,
   "metadata": {
    "collapsed": false
   },
   "outputs": [],
   "source": [
    "import graphlab\n",
    "graphlab.canvas.set_target('ipynb')\n",
    "people = graphlab.SFrame('people_wiki.gl')\n",
    "\n",
    "# adding word count\n",
    "people['word_count'] = graphlab.text_analytics.count_words(people['text'])\n",
    "\n",
    "# compute tf-idf\n",
    "people['tfidf'] = graphlab.text_analytics.tf_idf(people['word_count'])"
   ]
  },
  {
   "cell_type": "code",
   "execution_count": 64,
   "metadata": {
    "collapsed": false
   },
   "outputs": [
    {
     "name": "stdout",
     "output_type": "stream",
     "text": [
      "+-------+-------+\n",
      "|  word | count |\n",
      "+-------+-------+\n",
      "|  the  |   27  |\n",
      "|   in  |   18  |\n",
      "|  and  |   15  |\n",
      "|   of  |   13  |\n",
      "|   a   |   10  |\n",
      "|  has  |   9   |\n",
      "|  john |   7   |\n",
      "|   he  |   7   |\n",
      "|   on  |   6   |\n",
      "| award |   5   |\n",
      "+-------+-------+\n",
      "[255 rows x 2 columns]\n",
      "Note: Only the head of the SFrame is printed.\n",
      "You can use print_rows(num_rows=m, num_columns=n) to print more rows and columns.\n",
      "+---------------+---------------+\n",
      "|      word     |     tfidf     |\n",
      "+---------------+---------------+\n",
      "|    furnish    |  18.38947184  |\n",
      "|     elton     |  17.48232027  |\n",
      "|   billboard   | 17.3036809575 |\n",
      "|      john     | 13.9393127924 |\n",
      "|  songwriters  |  11.250406447 |\n",
      "| tonightcandle | 10.9864953892 |\n",
      "|  overallelton | 10.9864953892 |\n",
      "|    19702000   | 10.2933482087 |\n",
      "|   fivedecade  | 10.2933482087 |\n",
      "|      aids     |  10.262846934 |\n",
      "+---------------+---------------+\n",
      "[255 rows x 2 columns]\n",
      "Note: Only the head of the SFrame is printed.\n",
      "You can use print_rows(num_rows=m, num_columns=n) to print more rows and columns.\n"
     ]
    }
   ],
   "source": [
    "# result 1.1\n",
    "elton = people[people['name']== 'Elton John']\n",
    "print elton[['word_count']].stack('word_count',new_column_name=['word', 'count']).sort('count', ascending=False)\n",
    "print elton[['tfidf']].stack('tfidf',new_column_name=['word', 'tfidf']).sort('tfidf', ascending=False)"
   ]
  },
  {
   "cell_type": "code",
   "execution_count": 65,
   "metadata": {
    "collapsed": false
   },
   "outputs": [
    {
     "name": "stdout",
     "output_type": "stream",
     "text": [
      "0.956700637666\n",
      "0.825031002922\n"
     ]
    }
   ],
   "source": [
    "# result 2\n",
    "victoria = people[people['name']== 'Victoria Beckham']\n",
    "paul = people[people['name']== 'Paul McCartney']\n",
    "print graphlab.distances.cosine(elton['tfidf'][0], victoria['tfidf'][0])\n",
    "print graphlab.distances.cosine(elton['tfidf'][0], paul['tfidf'][0])"
   ]
  },
  {
   "cell_type": "code",
   "execution_count": 66,
   "metadata": {
    "collapsed": false,
    "scrolled": true
   },
   "outputs": [
    {
     "name": "stdout",
     "output_type": "stream",
     "text": [
      "+---------+-------+\n",
      "|   word  | tfidf |\n",
      "+---------+-------+\n",
      "|   the   |   19  |\n",
      "|    in   |   12  |\n",
      "|   and   |   12  |\n",
      "| beckham |   8   |\n",
      "|    to   |   6   |\n",
      "|    of   |   6   |\n",
      "|    a    |   5   |\n",
      "|   she   |   5   |\n",
      "| fashion |   5   |\n",
      "|   was   |   4   |\n",
      "+---------+-------+\n",
      "[175 rows x 2 columns]\n",
      "Note: Only the head of the SFrame is printed.\n",
      "You can use print_rows(num_rows=m, num_columns=n) to print more rows and columns.\n"
     ]
    }
   ],
   "source": [
    "print victoria[['word_count']].stack('word_count',new_column_name=['word', 'tfidf']).sort('tfidf', ascending=False)"
   ]
  },
  {
   "cell_type": "code",
   "execution_count": 67,
   "metadata": {
    "collapsed": false
   },
   "outputs": [
    {
     "name": "stdout",
     "output_type": "stream",
     "text": [
      "+------+-------+\n",
      "| word | tfidf |\n",
      "+------+-------+\n",
      "| and  |   17  |\n",
      "|  of  |   15  |\n",
      "| the  |   14  |\n",
      "|  in  |   8   |\n",
      "| has  |   7   |\n",
      "|  as  |   7   |\n",
      "| his  |   5   |\n",
      "| one  |   5   |\n",
      "|  he  |   5   |\n",
      "|  a   |   5   |\n",
      "+------+-------+\n",
      "[162 rows x 2 columns]\n",
      "Note: Only the head of the SFrame is printed.\n",
      "You can use print_rows(num_rows=m, num_columns=n) to print more rows and columns.\n"
     ]
    }
   ],
   "source": [
    "print paul[['word_count']].stack('word_count',new_column_name=['word', 'tfidf']).sort('tfidf', ascending=False)"
   ]
  },
  {
   "cell_type": "code",
   "execution_count": 68,
   "metadata": {
    "collapsed": false
   },
   "outputs": [
    {
     "data": {
      "text/html": [
       "<pre>Starting brute force nearest neighbors model training.</pre>"
      ],
      "text/plain": [
       "Starting brute force nearest neighbors model training."
      ]
     },
     "metadata": {},
     "output_type": "display_data"
    },
    {
     "data": {
      "text/html": [
       "<pre>Starting brute force nearest neighbors model training.</pre>"
      ],
      "text/plain": [
       "Starting brute force nearest neighbors model training."
      ]
     },
     "metadata": {},
     "output_type": "display_data"
    }
   ],
   "source": [
    "# result 3\n",
    "tfidf_model = graphlab.nearest_neighbors.create(people, features=['tfidf'], label='name',distance='cosine')\n",
    "word_model = graphlab.nearest_neighbors.create(people, features=['word_count'], label='name',distance='cosine')"
   ]
  },
  {
   "cell_type": "code",
   "execution_count": 69,
   "metadata": {
    "collapsed": false
   },
   "outputs": [
    {
     "data": {
      "text/html": [
       "<pre>Starting pairwise querying.</pre>"
      ],
      "text/plain": [
       "Starting pairwise querying."
      ]
     },
     "metadata": {},
     "output_type": "display_data"
    },
    {
     "data": {
      "text/html": [
       "<pre>+--------------+---------+-------------+--------------+</pre>"
      ],
      "text/plain": [
       "+--------------+---------+-------------+--------------+"
      ]
     },
     "metadata": {},
     "output_type": "display_data"
    },
    {
     "data": {
      "text/html": [
       "<pre>| Query points | # Pairs | % Complete. | Elapsed Time |</pre>"
      ],
      "text/plain": [
       "| Query points | # Pairs | % Complete. | Elapsed Time |"
      ]
     },
     "metadata": {},
     "output_type": "display_data"
    },
    {
     "data": {
      "text/html": [
       "<pre>+--------------+---------+-------------+--------------+</pre>"
      ],
      "text/plain": [
       "+--------------+---------+-------------+--------------+"
      ]
     },
     "metadata": {},
     "output_type": "display_data"
    },
    {
     "data": {
      "text/html": [
       "<pre>| 0            | 1       | 0.00169288  | 27.094ms     |</pre>"
      ],
      "text/plain": [
       "| 0            | 1       | 0.00169288  | 27.094ms     |"
      ]
     },
     "metadata": {},
     "output_type": "display_data"
    },
    {
     "data": {
      "text/html": [
       "<pre>| Done         |         | 100         | 946.33ms     |</pre>"
      ],
      "text/plain": [
       "| Done         |         | 100         | 946.33ms     |"
      ]
     },
     "metadata": {},
     "output_type": "display_data"
    },
    {
     "data": {
      "text/html": [
       "<pre>+--------------+---------+-------------+--------------+</pre>"
      ],
      "text/plain": [
       "+--------------+---------+-------------+--------------+"
      ]
     },
     "metadata": {},
     "output_type": "display_data"
    },
    {
     "name": "stdout",
     "output_type": "stream",
     "text": [
      "+-------------+-------------------+-------------------+------+\n",
      "| query_label |  reference_label  |      distance     | rank |\n",
      "+-------------+-------------------+-------------------+------+\n",
      "|      0      |     Elton John    | 2.22044604925e-16 |  1   |\n",
      "|      0      |   Cliff Richard   |   0.16142415259   |  2   |\n",
      "|      0      |   Sandro Petrone  |   0.16822542751   |  3   |\n",
      "|      0      |    Rod Stewart    |   0.168327165587  |  4   |\n",
      "|      0      | Malachi O'Doherty |   0.177315545979  |  5   |\n",
      "+-------------+-------------------+-------------------+------+\n",
      "[5 rows x 4 columns]\n",
      "\n"
     ]
    }
   ],
   "source": [
    "# result 3.1\n",
    "print word_model.query(elton)"
   ]
  },
  {
   "cell_type": "code",
   "execution_count": 70,
   "metadata": {
    "collapsed": false
   },
   "outputs": [
    {
     "data": {
      "text/html": [
       "<pre>Starting pairwise querying.</pre>"
      ],
      "text/plain": [
       "Starting pairwise querying."
      ]
     },
     "metadata": {},
     "output_type": "display_data"
    },
    {
     "data": {
      "text/html": [
       "<pre>+--------------+---------+-------------+--------------+</pre>"
      ],
      "text/plain": [
       "+--------------+---------+-------------+--------------+"
      ]
     },
     "metadata": {},
     "output_type": "display_data"
    },
    {
     "data": {
      "text/html": [
       "<pre>| Query points | # Pairs | % Complete. | Elapsed Time |</pre>"
      ],
      "text/plain": [
       "| Query points | # Pairs | % Complete. | Elapsed Time |"
      ]
     },
     "metadata": {},
     "output_type": "display_data"
    },
    {
     "data": {
      "text/html": [
       "<pre>+--------------+---------+-------------+--------------+</pre>"
      ],
      "text/plain": [
       "+--------------+---------+-------------+--------------+"
      ]
     },
     "metadata": {},
     "output_type": "display_data"
    },
    {
     "data": {
      "text/html": [
       "<pre>| 0            | 1       | 0.00169288  | 20.256ms     |</pre>"
      ],
      "text/plain": [
       "| 0            | 1       | 0.00169288  | 20.256ms     |"
      ]
     },
     "metadata": {},
     "output_type": "display_data"
    },
    {
     "data": {
      "text/html": [
       "<pre>| 0            | 45569   | 77.1428     | 1.02s        |</pre>"
      ],
      "text/plain": [
       "| 0            | 45569   | 77.1428     | 1.02s        |"
      ]
     },
     "metadata": {},
     "output_type": "display_data"
    },
    {
     "data": {
      "text/html": [
       "<pre>| Done         |         | 100         | 1.31s        |</pre>"
      ],
      "text/plain": [
       "| Done         |         | 100         | 1.31s        |"
      ]
     },
     "metadata": {},
     "output_type": "display_data"
    },
    {
     "data": {
      "text/html": [
       "<pre>+--------------+---------+-------------+--------------+</pre>"
      ],
      "text/plain": [
       "+--------------+---------+-------------+--------------+"
      ]
     },
     "metadata": {},
     "output_type": "display_data"
    },
    {
     "name": "stdout",
     "output_type": "stream",
     "text": [
      "+-------------+------------------+--------------------+------+\n",
      "| query_label | reference_label  |      distance      | rank |\n",
      "+-------------+------------------+--------------------+------+\n",
      "|      0      |    Elton John    | -2.22044604925e-16 |  1   |\n",
      "|      0      |   Rod Stewart    |   0.717219667893   |  2   |\n",
      "|      0      |  George Michael  |   0.747600998969   |  3   |\n",
      "|      0      | Sting (musician) |   0.747671954431   |  4   |\n",
      "|      0      |   Phil Collins   |   0.75119324879    |  5   |\n",
      "+-------------+------------------+--------------------+------+\n",
      "[5 rows x 4 columns]\n",
      "\n"
     ]
    }
   ],
   "source": [
    "# result 3.2\n",
    "print tfidf_model.query(elton)"
   ]
  },
  {
   "cell_type": "code",
   "execution_count": 71,
   "metadata": {
    "collapsed": false
   },
   "outputs": [
    {
     "data": {
      "text/html": [
       "<pre>Starting pairwise querying.</pre>"
      ],
      "text/plain": [
       "Starting pairwise querying."
      ]
     },
     "metadata": {},
     "output_type": "display_data"
    },
    {
     "data": {
      "text/html": [
       "<pre>+--------------+---------+-------------+--------------+</pre>"
      ],
      "text/plain": [
       "+--------------+---------+-------------+--------------+"
      ]
     },
     "metadata": {},
     "output_type": "display_data"
    },
    {
     "data": {
      "text/html": [
       "<pre>| Query points | # Pairs | % Complete. | Elapsed Time |</pre>"
      ],
      "text/plain": [
       "| Query points | # Pairs | % Complete. | Elapsed Time |"
      ]
     },
     "metadata": {},
     "output_type": "display_data"
    },
    {
     "data": {
      "text/html": [
       "<pre>+--------------+---------+-------------+--------------+</pre>"
      ],
      "text/plain": [
       "+--------------+---------+-------------+--------------+"
      ]
     },
     "metadata": {},
     "output_type": "display_data"
    },
    {
     "data": {
      "text/html": [
       "<pre>| 0            | 1       | 0.00169288  | 10.414ms     |</pre>"
      ],
      "text/plain": [
       "| 0            | 1       | 0.00169288  | 10.414ms     |"
      ]
     },
     "metadata": {},
     "output_type": "display_data"
    },
    {
     "data": {
      "text/html": [
       "<pre>| Done         |         | 100         | 850.649ms    |</pre>"
      ],
      "text/plain": [
       "| Done         |         | 100         | 850.649ms    |"
      ]
     },
     "metadata": {},
     "output_type": "display_data"
    },
    {
     "data": {
      "text/html": [
       "<pre>+--------------+---------+-------------+--------------+</pre>"
      ],
      "text/plain": [
       "+--------------+---------+-------------+--------------+"
      ]
     },
     "metadata": {},
     "output_type": "display_data"
    },
    {
     "name": "stdout",
     "output_type": "stream",
     "text": [
      "+-------------+--------------------------+--------------------+------+\n",
      "| query_label |     reference_label      |      distance      | rank |\n",
      "+-------------+--------------------------+--------------------+------+\n",
      "|      0      |     Victoria Beckham     | -2.22044604925e-16 |  1   |\n",
      "|      0      | Mary Fitzgerald (artist) |   0.207307036115   |  2   |\n",
      "|      0      |      Adrienne Corri      |   0.214509782788   |  3   |\n",
      "|      0      |     Beverly Jane Fry     |   0.217466468741   |  4   |\n",
      "|      0      |      Raman Mundair       |   0.217695474992   |  5   |\n",
      "+-------------+--------------------------+--------------------+------+\n",
      "[5 rows x 4 columns]\n",
      "\n"
     ]
    }
   ],
   "source": [
    "# result 3.3\n",
    "print word_model.query(victoria)"
   ]
  },
  {
   "cell_type": "code",
   "execution_count": 72,
   "metadata": {
    "collapsed": false
   },
   "outputs": [
    {
     "data": {
      "text/html": [
       "<pre>Starting pairwise querying.</pre>"
      ],
      "text/plain": [
       "Starting pairwise querying."
      ]
     },
     "metadata": {},
     "output_type": "display_data"
    },
    {
     "data": {
      "text/html": [
       "<pre>+--------------+---------+-------------+--------------+</pre>"
      ],
      "text/plain": [
       "+--------------+---------+-------------+--------------+"
      ]
     },
     "metadata": {},
     "output_type": "display_data"
    },
    {
     "data": {
      "text/html": [
       "<pre>| Query points | # Pairs | % Complete. | Elapsed Time |</pre>"
      ],
      "text/plain": [
       "| Query points | # Pairs | % Complete. | Elapsed Time |"
      ]
     },
     "metadata": {},
     "output_type": "display_data"
    },
    {
     "data": {
      "text/html": [
       "<pre>+--------------+---------+-------------+--------------+</pre>"
      ],
      "text/plain": [
       "+--------------+---------+-------------+--------------+"
      ]
     },
     "metadata": {},
     "output_type": "display_data"
    },
    {
     "data": {
      "text/html": [
       "<pre>| 0            | 1       | 0.00169288  | 21.64ms      |</pre>"
      ],
      "text/plain": [
       "| 0            | 1       | 0.00169288  | 21.64ms      |"
      ]
     },
     "metadata": {},
     "output_type": "display_data"
    },
    {
     "data": {
      "text/html": [
       "<pre>| 0            | 46593   | 78.8763     | 1.02s        |</pre>"
      ],
      "text/plain": [
       "| 0            | 46593   | 78.8763     | 1.02s        |"
      ]
     },
     "metadata": {},
     "output_type": "display_data"
    },
    {
     "data": {
      "text/html": [
       "<pre>| Done         |         | 100         | 1.28s        |</pre>"
      ],
      "text/plain": [
       "| Done         |         | 100         | 1.28s        |"
      ]
     },
     "metadata": {},
     "output_type": "display_data"
    },
    {
     "data": {
      "text/html": [
       "<pre>+--------------+---------+-------------+--------------+</pre>"
      ],
      "text/plain": [
       "+--------------+---------+-------------+--------------+"
      ]
     },
     "metadata": {},
     "output_type": "display_data"
    },
    {
     "name": "stdout",
     "output_type": "stream",
     "text": [
      "+-------------+---------------------+-------------------+------+\n",
      "| query_label |   reference_label   |      distance     | rank |\n",
      "+-------------+---------------------+-------------------+------+\n",
      "|      0      |   Victoria Beckham  | 1.11022302463e-16 |  1   |\n",
      "|      0      |    David Beckham    |   0.548169610263  |  2   |\n",
      "|      0      | Stephen Dow Beckham |   0.784986706828  |  3   |\n",
      "|      0      |        Mel B        |   0.809585523409  |  4   |\n",
      "|      0      |    Caroline Rush    |   0.819826422919  |  5   |\n",
      "+-------------+---------------------+-------------------+------+\n",
      "[5 rows x 4 columns]\n",
      "\n"
     ]
    }
   ],
   "source": [
    "# result 3.4\n",
    "print tfidf_model.query(victoria)"
   ]
  },
  {
   "cell_type": "code",
   "execution_count": null,
   "metadata": {
    "collapsed": true
   },
   "outputs": [],
   "source": []
  }
 ],
 "metadata": {
  "kernelspec": {
   "display_name": "Python 2",
   "language": "python",
   "name": "python2"
  },
  "language_info": {
   "codemirror_mode": {
    "name": "ipython",
    "version": 2
   },
   "file_extension": ".py",
   "mimetype": "text/x-python",
   "name": "python",
   "nbconvert_exporter": "python",
   "pygments_lexer": "ipython2",
   "version": "2.7.11"
  }
 },
 "nbformat": 4,
 "nbformat_minor": 0
}
